{
 "cells": [
  {
   "cell_type": "markdown",
   "id": "ad0e5f32",
   "metadata": {},
   "source": [
    "# Wormy (A Snake Rip-Off)"
   ]
  },
  {
   "attachments": {
    "image.png": {
     "image/png": "[encoded data removed]"
    }
   },
   "cell_type": "markdown",
   "id": "ce4192fa",
   "metadata": {},
   "source": [
    "The player will start by controlling a small worm around the screen. The player cannot stop or slow down, but can control the direction. Bricks will appear randomly. The player moves and eats the bricks. The worm grows longer each brick it eats. The game is over if the worm eats itself or crashes into the edge of the screen.\n",
    "\n",
    "![image.png](attachment:image.png)"
   ]
  },
  {
   "cell_type": "markdown",
   "id": "b697dc5f",
   "metadata": {},
   "source": [
    "The grid: a grid will be made to place the worm and brick. We can think of the grid with each cell a \"point\" on a certesian coordinate system. The grid(0,0) is in the top left cell and (31,23) is the bottom right cell."
   ]
  },
  {
   "cell_type": "code",
   "execution_count": 1,
   "id": "ddcae85a",
   "metadata": {},
   "outputs": [
    {
     "name": "stdout",
     "output_type": "stream",
     "text": [
      "pygame 2.1.0 (SDL 2.0.16, Python 3.9.7)\n",
      "Hello from the pygame community. https://www.pygame.org/contribute.html\n"
     ]
    }
   ],
   "source": [
    "import random,sys,pygame\n",
    "from pygame.locals import *"
   ]
  },
  {
   "cell_type": "code",
   "execution_count": 2,
   "id": "83409ca3",
   "metadata": {
    "scrolled": true
   },
   "outputs": [],
   "source": [
    "Fps=15\n",
    "WinWidth=640\n",
    "WinHeight=480\n",
    "CellSize=20\n",
    "assert WinWidth % CellSize == 0, 'Window width must be a multiple of cell size'\n",
    "assert WinHeight % CellSize == 0, 'Window height must be a multiple of cell size'\n",
    "CellWidth=int(WinWidth/CellSize)\n",
    "CellHeight=int(WinHeight/CellSize)\n",
    "#       R   G   B\n",
    "White=(255,255,255)\n",
    "Black=(0,   0,   0)\n",
    "Red=(255,   0,   0)\n",
    "Green=(44, 201, 52)\n",
    "DarkGreen=(35,97,40)\n",
    "DarkGray=(52,56,52)\n",
    "BGColor=Black\n",
    "Up='up'\n",
    "Down='down'\n",
    "Left='left'\n",
    "Right='right'\n",
    "\n",
    "Head=0 #index of worm's head\n",
    "\n",
    "def main():\n",
    "    global FpsClock,DisplaySurf,BasicFont\n",
    "    pygame.init()\n",
    "    FpsClock=pygame.time.Clock()\n",
    "    DisplaySurf=pygame.display.set_mode((WinWidth,WinHeight))\n",
    "    BasicFont=pygame.font.Font(\"freesansbold.ttf\",18)\n",
    "    pygame.display.set_caption(\"Wormy\")\n",
    "    \n",
    "def ShowStartScreen():\n",
    "    while True:\n",
    "        RunGame()\n",
    "        ShowGameOverScreen()\n",
    "        \n",
    "def RunGame():\n",
    "    #set a starting point\n",
    "    StartX=random.randint(5,(CellWidth-6))\n",
    "    StartY=random.randint(5,(CellHeight-6))\n",
    "    WormCoords=[{'x': StartX, 'y': StartY},\n",
    "                {'x': StartX-1, 'y': StartY},\n",
    "                {'x': StartX-2, 'y': StartY}\n",
    "               ]\n",
    "    Direction=Right\n",
    "    Apple=getRandomLocation()\n",
    "    while True:\n",
    "        for event in pygame.event.get():\n",
    "            if event.type==QUIT:\n",
    "                terminate()\n",
    "            elif event.type==KEYDOWN:\n",
    "                if(event.key==K_LEFT or event.key==K_a) and Direction !=Right:\n",
    "                    Direction=Left\n",
    "                elif(event.key==K_RIGHT or event.key==K_d) and Direction !=Left:\n",
    "                    Direction=Right\n",
    "                elif(event.key==K_DOWN or event.key==K_s) and Direction !=Up:\n",
    "                    Direction=Down\n",
    "                elif(event.key==K_UP or event.key==K_w) and Direction !=Down:\n",
    "                    Direction=Up\n",
    "                elif event.key==K_Escape:\n",
    "                    terminate()\n",
    "                    \n",
    "#we set a direction to be right. The worm will start by moving right\n",
    "\n",
    "#collision detection:\n",
    "\n",
    "#we can check if the worm has moved off the grid by seeing if either the x coordinate of the head is -1 (which is past the\n",
    "#left or if the worm has gone past the width)\n",
    "    if WormCoords[Head]['x']==-1 or WormCoords[Head]['x']==CellWidth or WormCoords[Head]['y']==-1 or WormCoords[Head]['y']==CellHeight:\n",
    "        return #game over\n",
    "    for WormBody in WormCoords[1:]:\n",
    "        if WormBody['x']==WormCoords[Head]['x'] and WormBody['y']==WormCoords[Head]['y']:\n",
    "            return #game over\n",
    "    \n",
    "#the worm has crashed when the head has moved off the edge of the grid or when the worm head moves into a cell that\n",
    "#is alreadyoccupied by another body segment\n",
    "\n",
    "#detecting collision with apples\n",
    "    if WormCoords[Head]['x']==Apple['x'] and WormCoords[Head]['y']==Apple['y']:\n",
    "        #don't remove tail segment\n",
    "        Apple=getRandomLocation() #set a new apple\n",
    "    else:\n",
    "        del WormCoords[-1] #remove worm's tail segment\n",
    "        \n",
    "#if the head has not collided with the apple, then we delete the last body segment in the wormCoords list. -1 is an index count\n",
    "#from the end of the list\n",
    "\n",
    "#move the worm. To move the worm we are going to add a new segment to the beginning of WormCoords.\n",
    "#this new segment willl be the head\n",
    "    if Direction == Up:\n",
    "        NewHead={'x': WormCoords[Head]['x'],'y':WormCoords[Head]['y']-1}\n",
    "    elif Direction == Down:\n",
    "        NewHead={'x':WormCoords[Head]['x'],'y':WormCoords[Head]['y']+1}\n",
    "    elif Direction == Left:\n",
    "        NewHead={'x':WormCoords[Head]['x']-1,'y':WormCoords[Head]['y']}\n",
    "    elif Direction == Right:\n",
    "        NewHead={'x':WormCoords[Head]['x']+1,'y':WormCoords[Head]['y']}\n",
    "    WormCoords.insert(0,NewHead)\n",
    "    \n",
    "#display the new screen\n",
    "    DisplaySurf.fill(BGColor)\n",
    "    drawGrid()\n",
    "    drawWorm(WormCoords)\n",
    "    drawApple(Apple)\n",
    "    drawScore(len(WormCoords)-3)\n",
    "    pygame.display.update()\n",
    "    FpsCLock.tick(Fps)\n"
   ]
  },
  {
   "cell_type": "code",
   "execution_count": 3,
   "id": "7fb2a202",
   "metadata": {},
   "outputs": [],
   "source": [
    "#press a key text\n",
    "def drawPressKeyMsg():\n",
    "    pressKeysurf=BasicFont.render(\"Press a key to play\",True,DarkGray)\n",
    "    pressKeyRect==pressKeySurf.get.rect()\n",
    "    pressKeyRect.topleft=(WinWidth-200, WinHeight-30)\n",
    "    DisplaySurf.blit(pressKeySurf, pressKeyRect)"
   ]
  },
  {
   "cell_type": "code",
   "execution_count": 4,
   "id": "19a89670",
   "metadata": {},
   "outputs": [],
   "source": [
    "#check for key press\n",
    "def checkForKeypress():\n",
    "    if len(pygame.event.get(QUIT))>0:\n",
    "        terminate()\n",
    "    keyUpEvents=pygame.event.get(KEYUP)\n",
    "    if len(keyUpEvents)==0:\n",
    "        return None\n",
    "    if keyUpEvent[0].key==K_ESCAPE:\n",
    "        terminate()\n",
    "    return keyUpEvents[0].key\n",
    "#this function checks if the quit events in the event queue\n",
    "#check if the event is empty\n",
    "#check to see if we escape\n",
    "        "
   ]
  },
  {
   "cell_type": "code",
   "execution_count": 5,
   "id": "e7882d25",
   "metadata": {},
   "outputs": [],
   "source": [
    "#start up screen\n",
    "def showStartScreen():\n",
    "    titleFont=pygame.font.Font('freesansbold.ttf',100)\n",
    "    titleSurf1=titleFont.render(\"Wormy\",True,White,DarkGreen)\n",
    "    titleSurf2=titleFont.render(\"Wormy\",True,Green)\n",
    "    \n",
    "    degree1=0\n",
    "    degree2=0\n",
    "    while True:\n",
    "        DisplaySurf.fill(BGColor)\n",
    "        rotatedSurf1=pygame.transform.rotate(titleSurf1.degree1)\n",
    "        rotatedRect1=rotatedSurf1.get.rec()\n",
    "        rotatedRect.center=(WinWidth/2 . WinHeight/2)\n",
    "        DisplaySurf.blit(rotatedSurf1,rotatedRect1)\n",
    "        rotatedSurf2=pygame.transform.rotate(titleSurf2.degree2)\n",
    "        rotatedRect2=rotatedSurf2.get.rec()\n",
    "        rotatedRect.center=(WinWidth/2 . WinHeight/2)\n",
    "        DisplaySurf.blit(rotatedSurf2,rotatedRect2)\n",
    "        \n",
    "        drawPressKeyMsg()\n",
    "        if checkForKeyPress():\n",
    "            pygame.event.get()\n",
    "            return\n",
    "        pygame.display.update()\n",
    "        FpsClock.tick(Fps)\n",
    "        degree1 +=3\n",
    "        degree2 +=7\n",
    "        "
   ]
  },
  {
   "cell_type": "code",
   "execution_count": 6,
   "id": "72f782b0",
   "metadata": {},
   "outputs": [],
   "source": [
    "def terminate():\n",
    "    pygame.quit()\n",
    "    sys.exit()"
   ]
  },
  {
   "cell_type": "code",
   "execution_count": 7,
   "id": "bd49d093",
   "metadata": {},
   "outputs": [],
   "source": [
    "# where the apple appears\n",
    "\n",
    "def getRandomLocation():\n",
    "    return {'x':random.randint(0,CellWidth-1),'y':randomramdomt(0,CellHeight-1)}"
   ]
  },
  {
   "cell_type": "code",
   "execution_count": 8,
   "id": "4a7d2be5",
   "metadata": {},
   "outputs": [],
   "source": [
    "#game over screen\n",
    "def ShowGameOverScreen():\n",
    "    gameOverFont=pygame.font.Font('freesansbold.ttf',150)\n",
    "    gameSurface=gameOverFont.render('GAME',True,White)\n",
    "    overSurf=gameOverFont.render('OVER',True,Red)\n",
    "    gameRect=gameSurf.get_rect()\n",
    "    overRect=overSurf.get_rect()\n",
    "    gameRect.midtop=(WinWidth / 2, 10)\n",
    "    overRect.midtop=(WinWidth / 2, gameRect.height+35)\n",
    "    DisplaySurf.blit(gameSurf,gameRect)\n",
    "    DisplaySurf.blit(overSurf,overRect)\n",
    "    drawPressKeyMsg()\n",
    "    pygame.display.update()\n",
    "    pygame.time.wait(500)\n",
    "    checkForKeyPress()\n",
    "    while True:\n",
    "        if checkForKeyPress():\n",
    "            pygame.event.get()\n",
    "            return"
   ]
  },
  {
   "cell_type": "code",
   "execution_count": 9,
   "id": "7ab5f49b",
   "metadata": {},
   "outputs": [],
   "source": [
    "#drawing functions\n",
    "\n",
    "def drawScore(score):\n",
    "    scoreSurf=BasicFont.render(\"Score: %s\" %(score), True, White)\n",
    "    scoreRect=scoreSurf.get_rect()\n",
    "    scoreRect.topLeft=(WinWidth-120,10)\n",
    "    DisplaySurf.blit(scoreSurf,scoreRect)\n",
    "def drawWorm(WormCoords):\n",
    "    for coord in wormCoords:\n",
    "        x=coord['x']*CellSize\n",
    "        y=coord['y']*CellSize\n",
    "        wormSegmentRect=pygame.Rect(x,y,CellSize,CellSize)\n",
    "        wormInnerSegmentRect = pygame.Rect(x+4,y+4,CellSize,CellSize)\n",
    "        pygame.draw.rect(DisplaySurf,Green,wormInnerSegmentRect)\n",
    "def drawApple(coord):\n",
    "    x=coord['x']*CellSize\n",
    "    y=coord['y']*CellSize\n",
    "    appleRect=pygame.Rect(x,y,CellSize)\n",
    "    pygame.draw.rect(DisplaySurf,Red,appleRect)\n",
    "def drawGrid():\n",
    "    for x in range(0,WinWidth,CellSize):\n",
    "        pygame.draw.line(DisplaySurf, DarkGray, (x,0),(x,WinHeight))\n",
    "    for y in range(0,WinHeight,CellSize):\n",
    "        pygame.draw.line(DisplaySurf, DarkGray, (0,y),(WinWidth,y))\n",
    "        \n",
    "if __name__ == '__main__':\n",
    "    main()"
   ]
  },
  {
   "cell_type": "code",
   "execution_count": null,
   "id": "451f0a35",
   "metadata": {},
   "outputs": [],
   "source": []
  },
  {
   "cell_type": "code",
   "execution_count": null,
   "id": "1a11cd01",
   "metadata": {},
   "outputs": [],
   "source": []
  }
 ],
 "metadata": {
  "kernelspec": {
   "display_name": "Python 3 (ipykernel)",
   "language": "python",
   "name": "python3"
  },
  "language_info": {
   "codemirror_mode": {
    "name": "ipython",
    "version": 3
   },
   "file_extension": ".py",
   "mimetype": "text/x-python",
   "name": "python",
   "nbconvert_exporter": "python",
   "pygments_lexer": "ipython3",
   "version": "3.9.7"
  }
 },
 "nbformat": 4,
 "nbformat_minor": 5
}
